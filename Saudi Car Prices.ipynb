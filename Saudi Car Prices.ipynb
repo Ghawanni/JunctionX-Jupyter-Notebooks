{
 "cells": [
  {
   "cell_type": "code",
   "execution_count": 23,
   "metadata": {},
   "outputs": [],
   "source": [
    "# This Python 3 environment comes with many helpful analytics libraries installed\n",
    "# It is defined by the kaggle/python docker image: https://github.com/kaggle/docker-python\n",
    "# For example, here's several helpful packages to load in \n",
    "\n",
    "import numpy as np # linear algebra\n",
    "import pandas as pd # data processing, CSV file I/O (e.g. pd.read_csv)\n",
    "\n",
    "# Input data files are available in the \"../input/\" directory.\n",
    "# For example, running this (by clicking run or pressing Shift+Enter) will list all files under the input directory\n",
    "\n",
    "import os\n",
    "for dirname, _, filenames in os.walk('/kaggle/input'):\n",
    "    for filename in filenames:\n",
    "        print(os.path.join(dirname, filename))\n",
    "\n",
    "# Any results you write to the current directory are saved as output."
   ]
  },
  {
   "cell_type": "code",
   "execution_count": 24,
   "metadata": {},
   "outputs": [],
   "source": [
    "import matplotlib.pyplot as plt \n",
    "import seaborn as sns"
   ]
  },
  {
   "cell_type": "markdown",
   "metadata": {},
   "source": [
    "# Riyadh car prices machine learning"
   ]
  },
  {
   "cell_type": "markdown",
   "metadata": {},
   "source": [
    "Car Price Prediction is a really interesting machine learning problem as there are many factors that influence the price of a car in the second-hand market.\n",
    "\n",
    "**This car dataset is scrapped from sa.opensooq.com a saudi second-hand market platform.**\n",
    "\n",
    "**Riyadh** is the capital city of Saudi Arabia, Riyadh province comes in second to Makkah with 4.8 million registered vehicles accounting for 30 percent of the total vehicles registered.\n",
    "The country’s traders paid SR356 billion to import cars over the past six years. The cost of imports rose 3 percent from SR77 billion in 2012 to SR79 billion last year, according to the study.\n",
    "\n",
    "our end goal will be to predict the price of the car given its features to maximize the profit. "
   ]
  },
  {
   "cell_type": "markdown",
   "metadata": {},
   "source": [
    "|Feature|Type|Description\n",
    "|---|---|---|\n",
    "|city|object|City of car sale\n",
    "|car_maker|object|Car brand name|\n",
    "|model|object|Car name|\n",
    "|year|int64|Production year of car|\n",
    "|condition|int|Calsses. used, new|\n",
    "|kilometers|object|Kilometers car traveled|\n",
    "|transmission|object|Type of gear. automatic, manual|\n",
    "|fuel|object|Gas or diesel|\n",
    "|color|object|Car color|\n",
    "|pay_method|object|Type of payment accepted|\n",
    "|price|float64|Sale price of car|"
   ]
  },
  {
   "cell_type": "code",
   "execution_count": 25,
   "metadata": {},
   "outputs": [],
   "source": [
    "df = pd.read_csv('./carsclean.csv')"
   ]
  },
  {
   "cell_type": "code",
   "execution_count": 26,
   "metadata": {},
   "outputs": [
    {
     "data": {
      "text/html": [
       "<div>\n",
       "<style scoped>\n",
       "    .dataframe tbody tr th:only-of-type {\n",
       "        vertical-align: middle;\n",
       "    }\n",
       "\n",
       "    .dataframe tbody tr th {\n",
       "        vertical-align: top;\n",
       "    }\n",
       "\n",
       "    .dataframe thead th {\n",
       "        text-align: right;\n",
       "    }\n",
       "</style>\n",
       "<table border=\"1\" class=\"dataframe\">\n",
       "  <thead>\n",
       "    <tr style=\"text-align: right;\">\n",
       "      <th></th>\n",
       "      <th>city</th>\n",
       "      <th>car_maker</th>\n",
       "      <th>model</th>\n",
       "      <th>year</th>\n",
       "      <th>condition</th>\n",
       "      <th>kilometers</th>\n",
       "      <th>transmission</th>\n",
       "      <th>fuel</th>\n",
       "      <th>color</th>\n",
       "      <th>pay_method</th>\n",
       "      <th>price</th>\n",
       "    </tr>\n",
       "  </thead>\n",
       "  <tbody>\n",
       "    <tr>\n",
       "      <th>0</th>\n",
       "      <td>Al Riyadh</td>\n",
       "      <td>Toyota</td>\n",
       "      <td>Rush</td>\n",
       "      <td>2019</td>\n",
       "      <td>Used</td>\n",
       "      <td>14999.5</td>\n",
       "      <td>Automatic</td>\n",
       "      <td>Gasoline</td>\n",
       "      <td>White</td>\n",
       "      <td>Cash or Installments</td>\n",
       "      <td>58375.0</td>\n",
       "    </tr>\n",
       "    <tr>\n",
       "      <th>1</th>\n",
       "      <td>Al Riyadh</td>\n",
       "      <td>Kia</td>\n",
       "      <td>Carnival</td>\n",
       "      <td>2006</td>\n",
       "      <td>Used</td>\n",
       "      <td>0.0</td>\n",
       "      <td>Automatic</td>\n",
       "      <td>Gasoline</td>\n",
       "      <td>Grey</td>\n",
       "      <td>Cash Only</td>\n",
       "      <td>10000.0</td>\n",
       "    </tr>\n",
       "    <tr>\n",
       "      <th>2</th>\n",
       "      <td>Al Riyadh</td>\n",
       "      <td>Toyota</td>\n",
       "      <td>Camry</td>\n",
       "      <td>2014</td>\n",
       "      <td>Used</td>\n",
       "      <td>24999.5</td>\n",
       "      <td>Automatic</td>\n",
       "      <td>Gasoline</td>\n",
       "      <td>White</td>\n",
       "      <td>Installments Only</td>\n",
       "      <td>58375.0</td>\n",
       "    </tr>\n",
       "    <tr>\n",
       "      <th>3</th>\n",
       "      <td>Al Riyadh</td>\n",
       "      <td>Ford</td>\n",
       "      <td>Fusion</td>\n",
       "      <td>2010</td>\n",
       "      <td>Used</td>\n",
       "      <td>200000.0</td>\n",
       "      <td>Automatic</td>\n",
       "      <td>Gasoline</td>\n",
       "      <td>White</td>\n",
       "      <td>Cash Only</td>\n",
       "      <td>22425.4</td>\n",
       "    </tr>\n",
       "    <tr>\n",
       "      <th>4</th>\n",
       "      <td>Al Riyadh</td>\n",
       "      <td>Ford</td>\n",
       "      <td>Taurus</td>\n",
       "      <td>2018</td>\n",
       "      <td>Used</td>\n",
       "      <td>5000.0</td>\n",
       "      <td>Automatic</td>\n",
       "      <td>Gasoline</td>\n",
       "      <td>Grey</td>\n",
       "      <td>Cash Only</td>\n",
       "      <td>22425.4</td>\n",
       "    </tr>\n",
       "  </tbody>\n",
       "</table>\n",
       "</div>"
      ],
      "text/plain": [
       "        city car_maker     model  year condition  kilometers transmission  \\\n",
       "0  Al Riyadh    Toyota      Rush  2019      Used     14999.5    Automatic   \n",
       "1  Al Riyadh       Kia  Carnival  2006      Used         0.0    Automatic   \n",
       "2  Al Riyadh    Toyota     Camry  2014      Used     24999.5    Automatic   \n",
       "3  Al Riyadh      Ford    Fusion  2010      Used    200000.0    Automatic   \n",
       "4  Al Riyadh      Ford    Taurus  2018      Used      5000.0    Automatic   \n",
       "\n",
       "       fuel  color            pay_method    price  \n",
       "0  Gasoline  White  Cash or Installments  58375.0  \n",
       "1  Gasoline   Grey             Cash Only  10000.0  \n",
       "2  Gasoline  White     Installments Only  58375.0  \n",
       "3  Gasoline  White             Cash Only  22425.4  \n",
       "4  Gasoline   Grey             Cash Only  22425.4  "
      ]
     },
     "execution_count": 26,
     "metadata": {},
     "output_type": "execute_result"
    }
   ],
   "source": [
    "df.head(5)"
   ]
  },
  {
   "cell_type": "code",
   "execution_count": 27,
   "metadata": {},
   "outputs": [
    {
     "data": {
      "text/plain": [
       "(560, 11)"
      ]
     },
     "execution_count": 27,
     "metadata": {},
     "output_type": "execute_result"
    }
   ],
   "source": [
    "df.shape #Data frame has 560 rows"
   ]
  },
  {
   "cell_type": "code",
   "execution_count": 28,
   "metadata": {},
   "outputs": [
    {
     "data": {
      "text/plain": [
       "city             object\n",
       "car_maker        object\n",
       "model            object\n",
       "year              int64\n",
       "condition        object\n",
       "kilometers      float64\n",
       "transmission     object\n",
       "fuel             object\n",
       "color            object\n",
       "pay_method       object\n",
       "price           float64\n",
       "dtype: object"
      ]
     },
     "execution_count": 28,
     "metadata": {},
     "output_type": "execute_result"
    }
   ],
   "source": [
    "df.dtypes #checking data types"
   ]
  },
  {
   "cell_type": "code",
   "execution_count": 29,
   "metadata": {},
   "outputs": [
    {
     "data": {
      "text/plain": [
       "city            0\n",
       "car_maker       0\n",
       "model           0\n",
       "year            0\n",
       "condition       0\n",
       "kilometers      0\n",
       "transmission    0\n",
       "fuel            0\n",
       "color           0\n",
       "pay_method      0\n",
       "price           0\n",
       "dtype: int64"
      ]
     },
     "execution_count": 29,
     "metadata": {},
     "output_type": "execute_result"
    }
   ],
   "source": [
    "df.isnull().sum()\n",
    "# Checking nulls"
   ]
  },
  {
   "cell_type": "code",
   "execution_count": 30,
   "metadata": {},
   "outputs": [
    {
     "name": "stdout",
     "output_type": "stream",
     "text": [
      "precentage of nulls : 0.3333333333333333\n"
     ]
    }
   ],
   "source": [
    "print(\"precentage of nulls :\",200/600)\n",
    "# precentage of nulls"
   ]
  },
  {
   "cell_type": "markdown",
   "metadata": {},
   "source": [
    "***We can see we have 200 rows in Price as NaN  which is 33% of the data***"
   ]
  },
  {
   "cell_type": "code",
   "execution_count": 31,
   "metadata": {},
   "outputs": [
    {
     "data": {
      "text/plain": [
       "array(['Toyota', 'Kia', 'Ford', 'Renault', 'Nissan', 'BMW', 'Cadillac',\n",
       "       'Mazda', 'GMC', 'Dodge', 'Suzuki'], dtype=object)"
      ]
     },
     "execution_count": 31,
     "metadata": {},
     "output_type": "execute_result"
    }
   ],
   "source": [
    "df.car_maker.unique() #checking unique values in car_maker column "
   ]
  },
  {
   "cell_type": "code",
   "execution_count": 32,
   "metadata": {},
   "outputs": [
    {
     "data": {
      "text/plain": [
       "count       560.000000\n",
       "mean      37521.064286\n",
       "std       27022.610673\n",
       "min        2114.000000\n",
       "25%       19000.000000\n",
       "50%       27500.000000\n",
       "75%       58375.000000\n",
       "max      100000.000000\n",
       "Name: price, dtype: float64"
      ]
     },
     "execution_count": 32,
     "metadata": {},
     "output_type": "execute_result"
    }
   ],
   "source": [
    "df.price.describe() #looking into price data"
   ]
  },
  {
   "cell_type": "code",
   "execution_count": 33,
   "metadata": {},
   "outputs": [
    {
     "data": {
      "text/plain": [
       "city            20\n",
       "car_maker       20\n",
       "model           20\n",
       "year            20\n",
       "condition       20\n",
       "kilometers      20\n",
       "transmission    20\n",
       "fuel            20\n",
       "color           20\n",
       "pay_method      20\n",
       "price           20\n",
       "dtype: int64"
      ]
     },
     "execution_count": 33,
     "metadata": {},
     "output_type": "execute_result"
    }
   ],
   "source": [
    "pricey = df[df.price == 100000]\n",
    "pricey.count() #count of cars price = 100000"
   ]
  },
  {
   "cell_type": "code",
   "execution_count": 34,
   "metadata": {},
   "outputs": [
    {
     "data": {
      "text/plain": [
       "10000.0     60\n",
       "58375.0     60\n",
       "22425.4     40\n",
       "62500.0     40\n",
       "11000.0     20\n",
       "16000.0     20\n",
       "45000.0     20\n",
       "20000.0     20\n",
       "25000.0     20\n",
       "40000.0     20\n",
       "42000.0     20\n",
       "94000.0     20\n",
       "100000.0    20\n",
       "35000.0     20\n",
       "36000.0     20\n",
       "24000.0     20\n",
       "98500.0     20\n",
       "2114.0      20\n",
       "30000.0     20\n",
       "23000.0     20\n",
       "12000.0     20\n",
       "22000.0     20\n",
       "Name: price, dtype: int64"
      ]
     },
     "execution_count": 34,
     "metadata": {},
     "output_type": "execute_result"
    }
   ],
   "source": [
    "df.price.value_counts()  #count of prices"
   ]
  },
  {
   "cell_type": "code",
   "execution_count": 35,
   "metadata": {},
   "outputs": [
    {
     "data": {
      "image/png": "[encoded data removed]",
      "text/plain": [
       "<Figure size 1440x432 with 1 Axes>"
      ]
     },
     "metadata": {
      "needs_background": "light"
     },
     "output_type": "display_data"
    }
   ],
   "source": [
    "plt.figure(figsize= (20,6))\n",
    "sns.boxplot(data = df , x = 'price' , y = 'car_maker', );\n",
    "#price according to car maker box plot"
   ]
  },
  {
   "cell_type": "code",
   "execution_count": 36,
   "metadata": {},
   "outputs": [
    {
     "data": {
      "image/png": "[encoded data removed]",
      "text/plain": [
       "<Figure size 1440x432 with 1 Axes>"
      ]
     },
     "metadata": {
      "needs_background": "light"
     },
     "output_type": "display_data"
    }
   ],
   "source": [
    "plt.figure(figsize= (20,6))\n",
    "sns.boxplot(data = df , x = 'year' , y = 'price', );\n",
    "#Price According to year boxplot"
   ]
  },
  {
   "cell_type": "code",
   "execution_count": 37,
   "metadata": {},
   "outputs": [
    {
     "data": {
      "text/plain": [
       "array([[<matplotlib.axes._subplots.AxesSubplot object at 0x7f05862b1fd0>,\n",
       "        <matplotlib.axes._subplots.AxesSubplot object at 0x7f05861c6710>],\n",
       "       [<matplotlib.axes._subplots.AxesSubplot object at 0x7f05861f0da0>,\n",
       "        <matplotlib.axes._subplots.AxesSubplot object at 0x7f05861a0470>]], dtype=object)"
      ]
     },
     "execution_count": 37,
     "metadata": {},
     "output_type": "execute_result"
    },
    {
     "data": {
      "image/png": "[encoded data removed]",
      "text/plain": [
       "<Figure size 1080x360 with 4 Axes>"
      ]
     },
     "metadata": {
      "needs_background": "light"
     },
     "output_type": "display_data"
    }
   ],
   "source": [
    "df.hist(figsize=(15,5), color = \"b\") #ploting count per price"
   ]
  },
  {
   "cell_type": "code",
   "execution_count": 38,
   "metadata": {},
   "outputs": [
    {
     "data": {
      "text/plain": [
       "<matplotlib.axes._subplots.AxesSubplot at 0x7f0586094ef0>"
      ]
     },
     "execution_count": 38,
     "metadata": {},
     "output_type": "execute_result"
    },
    {
     "data": {
      "image/png": "[encoded data removed]",
      "text/plain": [
       "<Figure size 432x288 with 1 Axes>"
      ]
     },
     "metadata": {
      "needs_background": "light"
     },
     "output_type": "display_data"
    }
   ],
   "source": [
    "df.car_maker.value_counts().plot(kind = \"bar\", color = \"g\") #ploting count of cars per maker"
   ]
  },
  {
   "cell_type": "code",
   "execution_count": null,
   "metadata": {},
   "outputs": [],
   "source": []
  }
 ],
 "metadata": {
  "kernelspec": {
   "display_name": "Python 3",
   "language": "python",
   "name": "python3"
  },
  "language_info": {
   "codemirror_mode": {
    "name": "ipython",
    "version": 3
   },
   "file_extension": ".py",
   "mimetype": "text/x-python",
   "name": "python",
   "nbconvert_exporter": "python",
   "pygments_lexer": "ipython3",
   "version": "3.6.7"
  }
 },
 "nbformat": 4,
 "nbformat_minor": 2
}
