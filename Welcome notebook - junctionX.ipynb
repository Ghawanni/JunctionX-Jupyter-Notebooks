{
 "cells": [
  {
   "cell_type": "markdown",
   "metadata": {},
   "source": [
    "# Welcome to JunctionX Hackathon 2019!\n",
    "---"
   ]
  },
  {
   "cell_type": "markdown",
   "metadata": {},
   "source": [
    "![UnitX-Logo](https://i.ibb.co/GtM4J2T/Unit-X-inverse-vertical-tagline-black-bg-centered.png)"
   ]
  },
  {
   "cell_type": "markdown",
   "metadata": {},
   "source": [
    "## What is UnitX?"
   ]
  },
  {
   "cell_type": "markdown",
   "metadata": {},
   "source": [
    "#### AI & SUPERCOMPUTING MADE EASY FOR NON-EXPERTS\n",
    "\n",
    "As businesses try to apply Artificial Intelligence (AI), Machine\n",
    "Learning (ML), and High-Performance Computing (HPC) for value-producing outcomes, they face two challenges.\n",
    "- First, the skills gaps in the industry.\n",
    "- Second, their engineers and data scientists spend more than 50% of their time dealing with hardware and software infrastructure issues instead of focusing on business outcomes.\n",
    "\n",
    "The UnitX platforms provide the solution. They provide readymade and reusable workflows for AI, ML and HPC use cases for different industry verticals, which both non-experts and specialists can use. Under the hood, UnitX manages and continually updates the software and hardware infrastructure which includes a network of supercomputers and public clouds worldwide, onto which users can deploy their workloads. UnitX breaks the barriers of skill and complexity for enterprise AI adoption and accelerates business value creation.\n",
    "\n",
    "Visit [UnitX Website](unitx.tech) to learn more & request a demo!\n",
    "\n",
    "---"
   ]
  },
  {
   "cell_type": "markdown",
   "metadata": {},
   "source": [
    "## How to use this notebook?"
   ]
  },
  {
   "cell_type": "markdown",
   "metadata": {},
   "source": [
    "This platform is made for JunctionX participants to accelerate their developement process without having them worry about setting up any environments.\n",
    "\n",
    "You can write code using *Python3, R, and Julia*\n",
    "\n",
    "We have provided different methods for you to write your code:\n",
    "- A **Jupyter Notebook** format\n",
    "- A **shell** to directly write/test code\n",
    "- A **terminal** for superusers who have specific needs\n",
    "\n",
    "\n",
    "\n",
    "To effectively use this notebook, we suggest you look into this following resources:\n",
    "- Read [JupyterLab documentation](https://jupyterlab.readthedocs.io/en/stable/) to better understanfd the notebook and its features\n",
    "- Check out the example notebook we have for you in the \"Example Notebooks\" folder\n",
    "- Ask mentors whenever you're not sure. We're here to help!\n",
    "\n",
    "\n",
    "\n",
    "Keep in mind that this platform is for you assistance and using it is **NOT** in any way mandatory.\n",
    "\n",
    "---\n"
   ]
  },
  {
   "cell_type": "markdown",
   "metadata": {},
   "source": [
    "## Getting Datasets"
   ]
  },
  {
   "cell_type": "markdown",
   "metadata": {},
   "source": [
    "Datasets for different challenges will be provided in this JunctionX!\n",
    "\n",
    "All you have to do is ask us about dataset (as shown in the challenges deep dive), and we will make sure we give you all the information you need."
   ]
  },
  {
   "cell_type": "code",
   "execution_count": null,
   "metadata": {},
   "outputs": [],
   "source": []
  }
 ],
 "metadata": {
  "kernelspec": {
   "display_name": "Python 3",
   "language": "python",
   "name": "python3"
  },
  "language_info": {
   "codemirror_mode": {
    "name": "ipython",
    "version": 3
   },
   "file_extension": ".py",
   "mimetype": "text/x-python",
   "name": "python",
   "nbconvert_exporter": "python",
   "pygments_lexer": "ipython3",
   "version": "3.6.7"
  }
 },
 "nbformat": 4,
 "nbformat_minor": 2
}
